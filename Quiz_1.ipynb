{
  "nbformat": 4,
  "nbformat_minor": 0,
  "metadata": {
    "colab": {
      "name": "Quiz-1.ipynb",
      "provenance": [],
      "collapsed_sections": []
    },
    "kernelspec": {
      "name": "python3",
      "display_name": "Python 3"
    },
    "language_info": {
      "name": "python"
    }
  },
  "cells": [
    {
      "cell_type": "markdown",
      "metadata": {
        "id": "PVK6TOZi-y0I"
      },
      "source": [
        "Please follow the questions sequence on your quiz interface and fill in the corresponding answer."
      ]
    },
    {
      "cell_type": "markdown",
      "metadata": {
        "id": "hrPj_EBo-HAs"
      },
      "source": [
        "##Quiz 1"
      ]
    },
    {
      "cell_type": "code",
      "metadata": {
        "id": "Hb4916l0-Fp0"
      },
      "source": [
        "#Q1 code goes here\n",
        "#.....a,b=1,0\n",
        "a=a^b\n",
        "b=a^b\n",
        "a=a^b\n",
        "print(a)."
      ],
      "execution_count": null,
      "outputs": []
    },
    {
      "cell_type": "code",
      "metadata": {
        "id": "p4M6g5fV-UjY"
      },
      "source": [
        "#Q2 code goes here\n",
        "#... Multiplication"
      ],
      "execution_count": null,
      "outputs": []
    },
    {
      "cell_type": "code",
      "metadata": {
        "id": "Kmx45kx--akf"
      },
      "source": [
        "#Q3 code goes here\n",
        "#....  arguments"
      ],
      "execution_count": null,
      "outputs": []
    },
    {
      "cell_type": "code",
      "metadata": {
        "id": "7Y7EBhQ1-fyS"
      },
      "source": [
        "#Q4 code goes here\n",
        "#...  Union"
      ],
      "execution_count": null,
      "outputs": []
    },
    {
      "cell_type": "code",
      "metadata": {
        "id": "MA7g7GDj-g9v"
      },
      "source": [
        "#Q5 code goes Error\n",
        "#..because there are : missing"
      ],
      "execution_count": null,
      "outputs": []
    },
    {
      "cell_type": "code",
      "metadata": {
        "id": "I12X4np--iIn"
      },
      "source": [
        "#Q6 code goes here\n",
        "#..added five , but every character separate"
      ],
      "execution_count": null,
      "outputs": []
    },
    {
      "cell_type": "code",
      "metadata": {
        "id": "0OgudXbC-jRf"
      },
      "source": [
        "#Q7 code goes here\n",
        "#.there are Error"
      ],
      "execution_count": null,
      "outputs": []
    },
    {
      "cell_type": "code",
      "metadata": {
        "id": "GAXrIcIi-kqq"
      },
      "source": [
        "#Q8 code goes here\n",
        "#...function for multiplication operation"
      ],
      "execution_count": null,
      "outputs": []
    },
    {
      "cell_type": "code",
      "metadata": {
        "id": "s9brnp6X-oLW"
      },
      "source": [
        "#Q9 code goes here\n",
        "#.....sublist is 3"
      ],
      "execution_count": null,
      "outputs": []
    },
    {
      "cell_type": "code",
      "metadata": {
        "id": "dRg-t5kh-qfd"
      },
      "source": [
        "#Q10 code goes here\n",
        "#... while loop , result 7"
      ],
      "execution_count": null,
      "outputs": []
    },
    {
      "cell_type": "code",
      "metadata": {
        "id": "Oeyo6Kl7-tCz"
      },
      "source": [
        "#Q11 code goes here\n",
        "#....  the comment without syntax error"
      ],
      "execution_count": null,
      "outputs": []
    },
    {
      "cell_type": "code",
      "metadata": {
        "id": "GVUAcq57-xSu"
      },
      "source": [
        "#Q12 code goes here\n",
        "#...  Maximum value"
      ],
      "execution_count": null,
      "outputs": []
    }
  ]
}